{
 "cells": [
  {
   "cell_type": "markdown",
   "metadata": {},
   "source": [
    "#### =====================================================================================\n",
    "#### Problem statement : Flag the comments which have opposite sentiments with respect to app rating "
   ]
  },
  {
   "cell_type": "code",
   "execution_count": 1,
   "metadata": {},
   "outputs": [],
   "source": [
    "#loading libraries \n",
    "import numpy as np\n",
    "import pandas as pd "
   ]
  },
  {
   "cell_type": "code",
   "execution_count": 2,
   "metadata": {},
   "outputs": [],
   "source": [
    "import warnings \n",
    "\n",
    "warnings.filterwarnings(\"ignore\")"
   ]
  },
  {
   "cell_type": "code",
   "execution_count": 3,
   "metadata": {},
   "outputs": [],
   "source": [
    "# Reading the collated file \n",
    "collated_data = pd.read_csv(\"collated_app_comments_2gud.csv\")"
   ]
  },
  {
   "cell_type": "code",
   "execution_count": 4,
   "metadata": {},
   "outputs": [
    {
     "name": "stdout",
     "output_type": "stream",
     "text": [
      "<class 'pandas.core.frame.DataFrame'>\n",
      "RangeIndex: 4308 entries, 0 to 4307\n",
      "Data columns (total 29 columns):\n",
      "Package Name                             4308 non-null object\n",
      "App Version Code                         2931 non-null float64\n",
      "App Version Name                         2931 non-null float64\n",
      "Reviewer Language                        4308 non-null object\n",
      "Device                                   4308 non-null object\n",
      "Review Submit Date and Time              4308 non-null object\n",
      "Review Submit Millis Since Epoch         4308 non-null int64\n",
      "Review Last Update Date and              2520 non-null object\n",
      "Week                                     2520 non-null float64\n",
      "ime                                      2520 non-null object\n",
      "Review Last Update Millis Since Epoch    4308 non-null int64\n",
      "Star Rating                              4308 non-null int64\n",
      "Review Title                             0 non-null float64\n",
      "Review Text                              2068 non-null object\n",
      "Developer Reply Date and Time            1289 non-null object\n",
      "Developer Reply Millis Since Epoch       1289 non-null float64\n",
      "Developer Reply Text                     1289 non-null object\n",
      "Review Link                              2068 non-null object\n",
      "Month                                    4308 non-null object\n",
      "Revised Rating                           906 non-null object\n",
      "First Date                               1788 non-null object\n",
      "First Week                               1216 non-null float64\n",
      "Review Last Update Date and Time         1788 non-null object\n",
      "Latest Date                              1216 non-null object\n",
      "Latest Week                              1216 non-null float64\n",
      "First week                               572 non-null float64\n",
      "Last Date                                572 non-null object\n",
      "Last week                                572 non-null float64\n",
      "Who changed rating                       572 non-null object\n",
      "dtypes: float64(9), int64(3), object(17)\n",
      "memory usage: 976.2+ KB\n"
     ]
    }
   ],
   "source": [
    "collated_data.info()"
   ]
  },
  {
   "cell_type": "code",
   "execution_count": 5,
   "metadata": {},
   "outputs": [
    {
     "data": {
      "text/plain": [
       "july      1216\n",
       "june       906\n",
       "march      719\n",
       "august     572\n",
       "feb        535\n",
       "may        360\n",
       "Name: Month, dtype: int64"
      ]
     },
     "execution_count": 5,
     "metadata": {},
     "output_type": "execute_result"
    }
   ],
   "source": [
    "collated_data['Month'].value_counts()"
   ]
  },
  {
   "cell_type": "code",
   "execution_count": 6,
   "metadata": {},
   "outputs": [
    {
     "data": {
      "text/plain": [
       "july      570\n",
       "june      312\n",
       "august    297\n",
       "march     231\n",
       "may       152\n",
       "feb       147\n",
       "Name: Month, dtype: int64"
      ]
     },
     "execution_count": 6,
     "metadata": {},
     "output_type": "execute_result"
    }
   ],
   "source": [
    "collated_data[collated_data['Star Rating'] <= 3]['Month'].value_counts()"
   ]
  },
  {
   "cell_type": "markdown",
   "metadata": {},
   "source": [
    "### Data Manipulation "
   ]
  },
  {
   "cell_type": "code",
   "execution_count": 7,
   "metadata": {},
   "outputs": [],
   "source": [
    "collated_data['Review Text'].fillna('Blank', inplace = True)\n",
    "#Removing all symbols etc from the comments \n",
    "\n",
    "# removing everything except alphabets`\n",
    "collated_data['clean_doc'] = collated_data['Review Text'].str.replace(\"[^a-zA-Z2#]\", \" \")\n",
    "\n",
    "# removing short words\n",
    "collated_data['clean_doc'] = collated_data['clean_doc'].apply(lambda x: ' '.join([w for w in x.split() if len(w)>1]))\n",
    "\n",
    "# make all text lowercase\n",
    "collated_data['clean_doc'] = collated_data['clean_doc'].apply(lambda x: x.lower())"
   ]
  },
  {
   "cell_type": "code",
   "execution_count": 8,
   "metadata": {},
   "outputs": [],
   "source": [
    "import re\n",
    "\n",
    "#Correcting mis splet words\n",
    "def reduce_lengthening(text):\n",
    "    pattern = re.compile(r\"(.)\\1{2,}\")\n",
    "    return pattern.sub(r\"\\1\\1\", text)\n",
    "\n",
    "collated_data['clean_doc'] = collated_data['clean_doc'].apply(lambda x: reduce_lengthening(x))"
   ]
  },
  {
   "cell_type": "code",
   "execution_count": 9,
   "metadata": {},
   "outputs": [
    {
     "data": {
      "text/plain": [
       "0                                   very good\n",
       "1                                      so gud\n",
       "2                                       wrost\n",
       "3                                       blank\n",
       "4       is app down showing only white screen\n",
       "                        ...                  \n",
       "4303                                      tky\n",
       "4304                                    blank\n",
       "4305                                         \n",
       "4306                                very nice\n",
       "4307                                    blank\n",
       "Name: clean_doc, Length: 4308, dtype: object"
      ]
     },
     "execution_count": 9,
     "metadata": {},
     "output_type": "execute_result"
    }
   ],
   "source": [
    "collated_data['clean_doc']"
   ]
  },
  {
   "cell_type": "code",
   "execution_count": null,
   "metadata": {},
   "outputs": [],
   "source": [
    "# import nltk\n",
    "# nltk.download('punkt')\n",
    "\n",
    "\n",
    "# # Lemmatisation\n",
    "# w_tokenizer = nltk.tokenize.WhitespaceTokenizer()\n",
    "# lemmatizer = nltk.stem.WordNetLemmatizer()\n",
    "\n",
    "# def lemmatize_text(text):\n",
    "#     return [lemmatizer.lemmatize(w) for w in w_tokenizer.tokenize(text)]\n",
    "\n",
    "# collated_data['text_lemmatized'] = collated_data.clean_doc.apply(lemmatize_text)"
   ]
  },
  {
   "cell_type": "code",
   "execution_count": null,
   "metadata": {},
   "outputs": [],
   "source": [
    "# ! pip install pyspellchecker"
   ]
  },
  {
   "cell_type": "code",
   "execution_count": null,
   "metadata": {},
   "outputs": [],
   "source": [
    "# from spellchecker import SpellChecker\n",
    "\n",
    "# spell = SpellChecker()\n",
    "\n",
    "# # find those words that may be misspelled\n",
    "# misspelled = spell.unknown(['gud', 'wrost', 'hapenning', 'here'])\n",
    "\n",
    "# for word in misspelled:\n",
    "#     # Get the one `most likely` answer\n",
    "#     print(spell.correction(word))\n",
    "\n",
    "#     # Get a list of `likely` options\n",
    "#     print(spell.candidates(word))"
   ]
  },
  {
   "cell_type": "code",
   "execution_count": null,
   "metadata": {},
   "outputs": [],
   "source": [
    "# # Text correction \n",
    "# from pattern.en import spelling\n",
    "\n",
    "\n",
    "# # correct_word = \n",
    "# spelling(word_wlf) \n",
    "# # print correct_word"
   ]
  },
  {
   "cell_type": "code",
   "execution_count": null,
   "metadata": {},
   "outputs": [],
   "source": [
    "# output = TextBlob(word_wlf).correct()\n",
    "# print(output)"
   ]
  },
  {
   "cell_type": "code",
   "execution_count": null,
   "metadata": {},
   "outputs": [],
   "source": [
    "# ! pip install autocorrect "
   ]
  },
  {
   "cell_type": "code",
   "execution_count": null,
   "metadata": {},
   "outputs": [],
   "source": [
    "# from autocorrect import Speller\n",
    "# spell = Speller(lang='en')\n",
    "\n",
    "# word_wlf = 'gud'\n",
    "# a = spell(word_wlf)\n",
    "# a"
   ]
  },
  {
   "cell_type": "code",
   "execution_count": 10,
   "metadata": {},
   "outputs": [],
   "source": [
    "# spell correction \n",
    "from spellchecker import SpellChecker\n",
    "\n",
    "spell = SpellChecker()\n",
    "\n",
    "# find those words that may be misspelled\n",
    "# Get the one `most likely` answer\n",
    "# collated_data['clean_doc'] = np.where(collated_data['clean_doc'].str.contains(' gud'), 'good',collated_data['clean_doc'])\n",
    "collated_data['clean_doc'] = collated_data['clean_doc'].apply(lambda x : spell.correction(x)) "
   ]
  },
  {
   "cell_type": "code",
   "execution_count": 11,
   "metadata": {},
   "outputs": [
    {
     "data": {
      "text/plain": [
       "0                                   very good\n",
       "1                                      so gud\n",
       "2                                       worst\n",
       "3                                       blank\n",
       "4       is app down showing only white screen\n",
       "                        ...                  \n",
       "4303                                      try\n",
       "4304                                    blank\n",
       "4305                                        a\n",
       "4306                                very nice\n",
       "4307                                    blank\n",
       "Name: clean_doc, Length: 4308, dtype: object"
      ]
     },
     "execution_count": 11,
     "metadata": {},
     "output_type": "execute_result"
    }
   ],
   "source": [
    "collated_data['clean_doc']"
   ]
  },
  {
   "cell_type": "code",
   "execution_count": 12,
   "metadata": {},
   "outputs": [],
   "source": [
    "#replacing gud with good \n",
    "collated_data[\"clean_doc\"] = collated_data.clean_doc.replace({'gud':'good'}, regex=True)"
   ]
  },
  {
   "cell_type": "markdown",
   "metadata": {},
   "source": [
    "### Tagging Polarity to the existing comments "
   ]
  },
  {
   "cell_type": "code",
   "execution_count": 13,
   "metadata": {},
   "outputs": [],
   "source": [
    "from textblob import TextBlob #for polarity of comment \n",
    "\n",
    "df = collated_data.copy()\n",
    "\n",
    "df['polarity_textblob'] = df['clean_doc'].map(lambda text: TextBlob(text).sentiment.polarity)\n",
    "df['review_len'] = df['clean_doc'].astype(str).apply(len)\n",
    "df['word_count'] = df['clean_doc'].apply(lambda x: len(str(x).split()))"
   ]
  },
  {
   "cell_type": "code",
   "execution_count": 14,
   "metadata": {},
   "outputs": [
    {
     "data": {
      "text/html": [
       "<div>\n",
       "<style scoped>\n",
       "    .dataframe tbody tr th:only-of-type {\n",
       "        vertical-align: middle;\n",
       "    }\n",
       "\n",
       "    .dataframe tbody tr th {\n",
       "        vertical-align: top;\n",
       "    }\n",
       "\n",
       "    .dataframe thead th {\n",
       "        text-align: right;\n",
       "    }\n",
       "</style>\n",
       "<table border=\"1\" class=\"dataframe\">\n",
       "  <thead>\n",
       "    <tr style=\"text-align: right;\">\n",
       "      <th></th>\n",
       "      <th>clean_doc</th>\n",
       "      <th>polarity_textblob</th>\n",
       "    </tr>\n",
       "  </thead>\n",
       "  <tbody>\n",
       "    <tr>\n",
       "      <td>0</td>\n",
       "      <td>very good</td>\n",
       "      <td>0.910000</td>\n",
       "    </tr>\n",
       "    <tr>\n",
       "      <td>1</td>\n",
       "      <td>so good</td>\n",
       "      <td>0.700000</td>\n",
       "    </tr>\n",
       "    <tr>\n",
       "      <td>2</td>\n",
       "      <td>worst</td>\n",
       "      <td>-1.000000</td>\n",
       "    </tr>\n",
       "    <tr>\n",
       "      <td>3</td>\n",
       "      <td>blank</td>\n",
       "      <td>0.000000</td>\n",
       "    </tr>\n",
       "    <tr>\n",
       "      <td>4</td>\n",
       "      <td>is app down showing only white screen</td>\n",
       "      <td>-0.051852</td>\n",
       "    </tr>\n",
       "    <tr>\n",
       "      <td>...</td>\n",
       "      <td>...</td>\n",
       "      <td>...</td>\n",
       "    </tr>\n",
       "    <tr>\n",
       "      <td>4303</td>\n",
       "      <td>try</td>\n",
       "      <td>0.000000</td>\n",
       "    </tr>\n",
       "    <tr>\n",
       "      <td>4304</td>\n",
       "      <td>blank</td>\n",
       "      <td>0.000000</td>\n",
       "    </tr>\n",
       "    <tr>\n",
       "      <td>4305</td>\n",
       "      <td>a</td>\n",
       "      <td>0.000000</td>\n",
       "    </tr>\n",
       "    <tr>\n",
       "      <td>4306</td>\n",
       "      <td>very nice</td>\n",
       "      <td>0.780000</td>\n",
       "    </tr>\n",
       "    <tr>\n",
       "      <td>4307</td>\n",
       "      <td>blank</td>\n",
       "      <td>0.000000</td>\n",
       "    </tr>\n",
       "  </tbody>\n",
       "</table>\n",
       "<p>4308 rows × 2 columns</p>\n",
       "</div>"
      ],
      "text/plain": [
       "                                  clean_doc  polarity_textblob\n",
       "0                                 very good           0.910000\n",
       "1                                   so good           0.700000\n",
       "2                                     worst          -1.000000\n",
       "3                                     blank           0.000000\n",
       "4     is app down showing only white screen          -0.051852\n",
       "...                                     ...                ...\n",
       "4303                                    try           0.000000\n",
       "4304                                  blank           0.000000\n",
       "4305                                      a           0.000000\n",
       "4306                              very nice           0.780000\n",
       "4307                                  blank           0.000000\n",
       "\n",
       "[4308 rows x 2 columns]"
      ]
     },
     "execution_count": 14,
     "metadata": {},
     "output_type": "execute_result"
    }
   ],
   "source": [
    "df[['clean_doc','polarity_textblob']]"
   ]
  },
  {
   "cell_type": "code",
   "execution_count": null,
   "metadata": {},
   "outputs": [],
   "source": [
    "#writing the polarity file using TEXT BLOB\n",
    "# df.to_csv(\"App_comments_w_polarity.csv\", index = False)"
   ]
  },
  {
   "cell_type": "markdown",
   "metadata": {},
   "source": [
    "### VADER "
   ]
  },
  {
   "cell_type": "code",
   "execution_count": 15,
   "metadata": {},
   "outputs": [],
   "source": [
    "from nltk.sentiment.vader import SentimentIntensityAnalyzer"
   ]
  },
  {
   "cell_type": "code",
   "execution_count": 16,
   "metadata": {},
   "outputs": [
    {
     "name": "stderr",
     "output_type": "stream",
     "text": [
      "[nltk_data] Downloading package vader_lexicon to\n",
      "[nltk_data]     C:\\Users\\shivani.singh\\AppData\\Roaming\\nltk_data...\n",
      "[nltk_data]   Package vader_lexicon is already up-to-date!\n"
     ]
    }
   ],
   "source": [
    "import nltk \n",
    "nltk.download('vader_lexicon')\n",
    "sia = SentimentIntensityAnalyzer()"
   ]
  },
  {
   "cell_type": "code",
   "execution_count": 17,
   "metadata": {},
   "outputs": [],
   "source": [
    "df[\"polarity_vader\"] = df[\"clean_doc\"].apply(lambda x : sia.polarity_scores(x))"
   ]
  },
  {
   "cell_type": "code",
   "execution_count": 18,
   "metadata": {},
   "outputs": [],
   "source": [
    "for row in range(len(df)):\n",
    "    df.loc[row,\"overall_vader\"] = df.polarity_vader.loc[row]['compound']"
   ]
  },
  {
   "cell_type": "code",
   "execution_count": 19,
   "metadata": {},
   "outputs": [
    {
     "data": {
      "text/plain": [
       "0       0.4927\n",
       "1       0.4927\n",
       "2      -0.6249\n",
       "3       0.0000\n",
       "4       0.0000\n",
       "         ...  \n",
       "4303    0.0000\n",
       "4304    0.0000\n",
       "4305    0.0000\n",
       "4306    0.4754\n",
       "4307    0.0000\n",
       "Name: overall_vader, Length: 4308, dtype: float64"
      ]
     },
     "execution_count": 19,
     "metadata": {},
     "output_type": "execute_result"
    }
   ],
   "source": [
    "df.overall_vader"
   ]
  },
  {
   "cell_type": "code",
   "execution_count": 20,
   "metadata": {},
   "outputs": [
    {
     "name": "stdout",
     "output_type": "stream",
     "text": [
      "<class 'pandas.core.frame.DataFrame'>\n",
      "RangeIndex: 4308 entries, 0 to 4307\n",
      "Data columns (total 35 columns):\n",
      "Package Name                             4308 non-null object\n",
      "App Version Code                         2931 non-null float64\n",
      "App Version Name                         2931 non-null float64\n",
      "Reviewer Language                        4308 non-null object\n",
      "Device                                   4308 non-null object\n",
      "Review Submit Date and Time              4308 non-null object\n",
      "Review Submit Millis Since Epoch         4308 non-null int64\n",
      "Review Last Update Date and              2520 non-null object\n",
      "Week                                     2520 non-null float64\n",
      "ime                                      2520 non-null object\n",
      "Review Last Update Millis Since Epoch    4308 non-null int64\n",
      "Star Rating                              4308 non-null int64\n",
      "Review Title                             0 non-null float64\n",
      "Review Text                              4308 non-null object\n",
      "Developer Reply Date and Time            1289 non-null object\n",
      "Developer Reply Millis Since Epoch       1289 non-null float64\n",
      "Developer Reply Text                     1289 non-null object\n",
      "Review Link                              2068 non-null object\n",
      "Month                                    4308 non-null object\n",
      "Revised Rating                           906 non-null object\n",
      "First Date                               1788 non-null object\n",
      "First Week                               1216 non-null float64\n",
      "Review Last Update Date and Time         1788 non-null object\n",
      "Latest Date                              1216 non-null object\n",
      "Latest Week                              1216 non-null float64\n",
      "First week                               572 non-null float64\n",
      "Last Date                                572 non-null object\n",
      "Last week                                572 non-null float64\n",
      "Who changed rating                       572 non-null object\n",
      "clean_doc                                4308 non-null object\n",
      "polarity_textblob                        4308 non-null float64\n",
      "review_len                               4308 non-null int64\n",
      "word_count                               4308 non-null int64\n",
      "polarity_vader                           4308 non-null object\n",
      "overall_vader                            4308 non-null float64\n",
      "dtypes: float64(11), int64(5), object(19)\n",
      "memory usage: 1.2+ MB\n"
     ]
    }
   ],
   "source": [
    "df.info()"
   ]
  },
  {
   "cell_type": "code",
   "execution_count": 21,
   "metadata": {},
   "outputs": [],
   "source": [
    "df[\"Wrong_rating_flag\"] = np.where((df[\"Star Rating\"].isin([4,5])) & (df[\"overall_vader\"] <= -0.1), 'neg_com',\n",
    "                                   np.where((df[\"Star Rating\"].isin([1,2,3])) & (df[\"overall_vader\"] >= 0.25), 'pos_com','0'))"
   ]
  },
  {
   "cell_type": "code",
   "execution_count": 22,
   "metadata": {},
   "outputs": [
    {
     "data": {
      "text/plain": [
       "array(['0', 'pos_com', 'neg_com'], dtype=object)"
      ]
     },
     "execution_count": 22,
     "metadata": {},
     "output_type": "execute_result"
    }
   ],
   "source": [
    "df[\"Wrong_rating_flag\"].unique()"
   ]
  },
  {
   "cell_type": "code",
   "execution_count": 23,
   "metadata": {},
   "outputs": [],
   "source": [
    "df[\"False_positive_comments\"] = np.where((df[\"Wrong_rating_flag\"] == 'pos_com') & (df[\"Developer Reply Text\"].str.contains('Sorry')),1,0)"
   ]
  },
  {
   "cell_type": "code",
   "execution_count": 24,
   "metadata": {},
   "outputs": [],
   "source": [
    "# Creating new star ratig columns based on polarity \n",
    "\n",
    "\n",
    "for row in range(len(df)) :\n",
    "\n",
    "    if ((df.loc[row,\"Wrong_rating_flag\"] == \"pos_com\") & (df.loc[row,\"Star Rating\"] == 1) & (df.loc[row,\"False_positive_comments\"] ==0)):\n",
    "        df.loc[row,\"New Star Rating\"] = 4\n",
    "\n",
    "    elif ((df.loc[row,\"Wrong_rating_flag\"] == \"pos_com\") & (df.loc[row,\"False_positive_comments\"] ==0) & ((df.loc[row,\"Star Rating\"] == 2) | (df.loc[row,\"Star Rating\"] == 3))):\n",
    "        df.loc[row,\"New Star Rating\"] = 5\n",
    "\n",
    "    elif ((df.loc[row,\"Wrong_rating_flag\"] == \"neg_com\") & ((df.loc[row,\"Star Rating\"] == 3) | (df.loc[row,\"Star Rating\"] == 4))):\n",
    "        df.loc[row,\"New Star Rating\"] = 1\n",
    "\n",
    "    elif  ((df.loc[row,\"Wrong_rating_flag\"] == \"neg_com\") & (df.loc[row,\"Star Rating\"] == 5 )):\n",
    "        df.loc[row,\"New Star Rating\"] = 2\n",
    "\n",
    "    else :\n",
    "        df.loc[row,\"New Star Rating\"] = df.loc[row,\"Star Rating\"]\n"
   ]
  },
  {
   "cell_type": "code",
   "execution_count": 25,
   "metadata": {},
   "outputs": [
    {
     "data": {
      "text/html": [
       "<div>\n",
       "<style scoped>\n",
       "    .dataframe tbody tr th:only-of-type {\n",
       "        vertical-align: middle;\n",
       "    }\n",
       "\n",
       "    .dataframe tbody tr th {\n",
       "        vertical-align: top;\n",
       "    }\n",
       "\n",
       "    .dataframe thead th {\n",
       "        text-align: right;\n",
       "    }\n",
       "</style>\n",
       "<table border=\"1\" class=\"dataframe\">\n",
       "  <thead>\n",
       "    <tr style=\"text-align: right;\">\n",
       "      <th></th>\n",
       "      <th>Star Rating</th>\n",
       "      <th>New Star Rating</th>\n",
       "    </tr>\n",
       "  </thead>\n",
       "  <tbody>\n",
       "    <tr>\n",
       "      <td>0</td>\n",
       "      <td>4</td>\n",
       "      <td>4.0</td>\n",
       "    </tr>\n",
       "    <tr>\n",
       "      <td>1</td>\n",
       "      <td>3</td>\n",
       "      <td>5.0</td>\n",
       "    </tr>\n",
       "    <tr>\n",
       "      <td>2</td>\n",
       "      <td>1</td>\n",
       "      <td>1.0</td>\n",
       "    </tr>\n",
       "    <tr>\n",
       "      <td>3</td>\n",
       "      <td>4</td>\n",
       "      <td>4.0</td>\n",
       "    </tr>\n",
       "    <tr>\n",
       "      <td>4</td>\n",
       "      <td>2</td>\n",
       "      <td>2.0</td>\n",
       "    </tr>\n",
       "    <tr>\n",
       "      <td>...</td>\n",
       "      <td>...</td>\n",
       "      <td>...</td>\n",
       "    </tr>\n",
       "    <tr>\n",
       "      <td>4303</td>\n",
       "      <td>1</td>\n",
       "      <td>1.0</td>\n",
       "    </tr>\n",
       "    <tr>\n",
       "      <td>4304</td>\n",
       "      <td>1</td>\n",
       "      <td>1.0</td>\n",
       "    </tr>\n",
       "    <tr>\n",
       "      <td>4305</td>\n",
       "      <td>1</td>\n",
       "      <td>1.0</td>\n",
       "    </tr>\n",
       "    <tr>\n",
       "      <td>4306</td>\n",
       "      <td>5</td>\n",
       "      <td>5.0</td>\n",
       "    </tr>\n",
       "    <tr>\n",
       "      <td>4307</td>\n",
       "      <td>3</td>\n",
       "      <td>3.0</td>\n",
       "    </tr>\n",
       "  </tbody>\n",
       "</table>\n",
       "<p>4308 rows × 2 columns</p>\n",
       "</div>"
      ],
      "text/plain": [
       "      Star Rating  New Star Rating\n",
       "0               4              4.0\n",
       "1               3              5.0\n",
       "2               1              1.0\n",
       "3               4              4.0\n",
       "4               2              2.0\n",
       "...           ...              ...\n",
       "4303            1              1.0\n",
       "4304            1              1.0\n",
       "4305            1              1.0\n",
       "4306            5              5.0\n",
       "4307            3              3.0\n",
       "\n",
       "[4308 rows x 2 columns]"
      ]
     },
     "execution_count": 25,
     "metadata": {},
     "output_type": "execute_result"
    }
   ],
   "source": [
    "df[[\"Star Rating\",\"New Star Rating\"]]"
   ]
  },
  {
   "cell_type": "code",
   "execution_count": 26,
   "metadata": {},
   "outputs": [
    {
     "name": "stdout",
     "output_type": "stream",
     "text": [
      "<class 'pandas.core.frame.DataFrame'>\n",
      "RangeIndex: 4308 entries, 0 to 4307\n",
      "Data columns (total 38 columns):\n",
      "Package Name                             4308 non-null object\n",
      "App Version Code                         2931 non-null float64\n",
      "App Version Name                         2931 non-null float64\n",
      "Reviewer Language                        4308 non-null object\n",
      "Device                                   4308 non-null object\n",
      "Review Submit Date and Time              4308 non-null object\n",
      "Review Submit Millis Since Epoch         4308 non-null int64\n",
      "Review Last Update Date and              2520 non-null object\n",
      "Week                                     2520 non-null float64\n",
      "ime                                      2520 non-null object\n",
      "Review Last Update Millis Since Epoch    4308 non-null int64\n",
      "Star Rating                              4308 non-null int64\n",
      "Review Title                             0 non-null float64\n",
      "Review Text                              4308 non-null object\n",
      "Developer Reply Date and Time            1289 non-null object\n",
      "Developer Reply Millis Since Epoch       1289 non-null float64\n",
      "Developer Reply Text                     1289 non-null object\n",
      "Review Link                              2068 non-null object\n",
      "Month                                    4308 non-null object\n",
      "Revised Rating                           906 non-null object\n",
      "First Date                               1788 non-null object\n",
      "First Week                               1216 non-null float64\n",
      "Review Last Update Date and Time         1788 non-null object\n",
      "Latest Date                              1216 non-null object\n",
      "Latest Week                              1216 non-null float64\n",
      "First week                               572 non-null float64\n",
      "Last Date                                572 non-null object\n",
      "Last week                                572 non-null float64\n",
      "Who changed rating                       572 non-null object\n",
      "clean_doc                                4308 non-null object\n",
      "polarity_textblob                        4308 non-null float64\n",
      "review_len                               4308 non-null int64\n",
      "word_count                               4308 non-null int64\n",
      "polarity_vader                           4308 non-null object\n",
      "overall_vader                            4308 non-null float64\n",
      "Wrong_rating_flag                        4308 non-null object\n",
      "False_positive_comments                  4308 non-null int32\n",
      "New Star Rating                          4308 non-null float64\n",
      "dtypes: float64(12), int32(1), int64(5), object(20)\n",
      "memory usage: 1.2+ MB\n"
     ]
    }
   ],
   "source": [
    "df.info()"
   ]
  },
  {
   "cell_type": "code",
   "execution_count": 28,
   "metadata": {},
   "outputs": [
    {
     "data": {
      "text/plain": [
       "july      1216\n",
       "june       906\n",
       "march      719\n",
       "august     572\n",
       "feb        535\n",
       "may        360\n",
       "Name: Month, dtype: int64"
      ]
     },
     "execution_count": 28,
     "metadata": {},
     "output_type": "execute_result"
    }
   ],
   "source": [
    "df['Month'].value_counts()"
   ]
  },
  {
   "cell_type": "code",
   "execution_count": 27,
   "metadata": {},
   "outputs": [
    {
     "data": {
      "text/plain": [
       "0    4265\n",
       "1      43\n",
       "Name: False_positive_comments, dtype: int64"
      ]
     },
     "execution_count": 27,
     "metadata": {},
     "output_type": "execute_result"
    }
   ],
   "source": [
    "df[\"False_positive_comments\"].value_counts()"
   ]
  },
  {
   "cell_type": "code",
   "execution_count": 29,
   "metadata": {},
   "outputs": [],
   "source": [
    "df.to_csv(\"polarity_textblob_vader.csv\", index = False)"
   ]
  },
  {
   "cell_type": "code",
   "execution_count": 30,
   "metadata": {},
   "outputs": [],
   "source": [
    "sentence = \"many issue in this app\""
   ]
  },
  {
   "cell_type": "code",
   "execution_count": 31,
   "metadata": {},
   "outputs": [
    {
     "data": {
      "text/plain": [
       "0.5"
      ]
     },
     "execution_count": 31,
     "metadata": {},
     "output_type": "execute_result"
    }
   ],
   "source": [
    "TextBlob(sentence).sentiment.polarity"
   ]
  },
  {
   "cell_type": "code",
   "execution_count": 32,
   "metadata": {},
   "outputs": [
    {
     "name": "stdout",
     "output_type": "stream",
     "text": [
      "compound: 0.0, \n",
      "neg: 0.0, \n",
      "neu: 1.0, \n",
      "pos: 0.0, \n"
     ]
    }
   ],
   "source": [
    "ss = sia.polarity_scores(sentence)\n",
    "\n",
    "for k in sorted(ss):\n",
    "    print('{0}: {1}, '.format(k, ss[k]), end='')\n",
    "    print()"
   ]
  },
  {
   "cell_type": "markdown",
   "metadata": {},
   "source": [
    "### Stanford core nlp"
   ]
  },
  {
   "cell_type": "code",
   "execution_count": null,
   "metadata": {},
   "outputs": [],
   "source": [
    "# ! pip install pycorenlp"
   ]
  },
  {
   "cell_type": "code",
   "execution_count": null,
   "metadata": {},
   "outputs": [],
   "source": [
    "# from pycorenlp import StanfordCoreNLP\n",
    "\n",
    "# nlp = StanfordCoreNLP()\n",
    "# res = nlp.annotate(\"I love you. I hate him. You are nice. He is dumb\",\n",
    "#                    properties={\n",
    "#                        'annotators': 'sentiment',\n",
    "#                        'outputFormat': 'json',\n",
    "#                        'timeout': 1000,\n",
    "#                    })\n",
    "# for s in res[\"sentences\"]:\n",
    "#     print(\"%d: '%s': %s %s\" % (\n",
    "#         s[\"index\"],\n",
    "#         \" \".join([t[\"word\"] for t in s[\"tokens\"]]),\n",
    "#         s[\"sentimentValue\"], s[\"sentiment\"]))"
   ]
  },
  {
   "cell_type": "code",
   "execution_count": null,
   "metadata": {},
   "outputs": [],
   "source": []
  },
  {
   "cell_type": "code",
   "execution_count": null,
   "metadata": {},
   "outputs": [],
   "source": []
  }
 ],
 "metadata": {
  "kernelspec": {
   "display_name": "Python 3",
   "language": "python",
   "name": "python3"
  },
  "language_info": {
   "codemirror_mode": {
    "name": "ipython",
    "version": 3
   },
   "file_extension": ".py",
   "mimetype": "text/x-python",
   "name": "python",
   "nbconvert_exporter": "python",
   "pygments_lexer": "ipython3",
   "version": "3.7.4"
  }
 },
 "nbformat": 4,
 "nbformat_minor": 2
}
