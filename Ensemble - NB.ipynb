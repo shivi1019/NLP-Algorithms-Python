{
 "cells": [
  {
   "cell_type": "markdown",
   "metadata": {},
   "source": [
    "======================================================================================================\n",
    "#### Creating Ensemble model for classifying comments as positive/negative or neutral "
   ]
  },
  {
   "cell_type": "code",
   "execution_count": 1,
   "metadata": {},
   "outputs": [],
   "source": [
    "import nltk\n",
    "import random\n",
    "from nltk.classify.scikitlearn import SklearnClassifier\n",
    "import pickle\n",
    "from sklearn.naive_bayes import MultinomialNB, BernoulliNB\n",
    "from sklearn.linear_model import LogisticRegression, SGDClassifier\n",
    "from sklearn.svm import SVC, LinearSVC, NuSVC\n",
    "from nltk.classify import ClassifierI\n",
    "from statistics import mode\n",
    "from nltk.tokenize import word_tokenize\n",
    "import re"
   ]
  },
  {
   "cell_type": "code",
   "execution_count": 2,
   "metadata": {},
   "outputs": [],
   "source": [
    "import os "
   ]
  },
  {
   "cell_type": "code",
   "execution_count": 13,
   "metadata": {},
   "outputs": [
    {
     "data": {
      "text/plain": [
       "'C:\\\\Users\\\\shivani.singh\\\\Documents\\\\Project1-WFM\\\\Project10 - 2Gud New Customer Onboarding\\\\02- Topic Modelling'"
      ]
     },
     "execution_count": 13,
     "metadata": {},
     "output_type": "execute_result"
    }
   ],
   "source": [
    "os.getcwd()"
   ]
  },
  {
   "cell_type": "code",
   "execution_count": 14,
   "metadata": {},
   "outputs": [],
   "source": [
    "files_pos = open(\"opinion-lexicon-English/positive-words.txt\",'r')\n",
    "# files_neg = os.listdir('train/neg')\n",
    "# files_neg = [open('train/neg/'+f, 'r').read() for f in files_neg]"
   ]
  },
  {
   "cell_type": "code",
   "execution_count": 16,
   "metadata": {},
   "outputs": [
    {
     "data": {
      "text/plain": [
       "';;;;;;;;;;;;;;;;;;;;;;;;;;;;;;;;;;;;;;;;;;;;;;;;;;;;;;;;;;;;;;;;;;;;;;;;;;;;\\n; \\n; Opinion Lexicon: Positive\\n;\\n; This file contains a list of POSITIVE opinion words (or sentiment words).\\n;\\n; This file and the papers can all be downloaded from \\n;    http://www.cs.uic.edu/~liub/FBS/sentiment-analysis.html\\n;\\n; If you use this list, please cite the following paper:\\n;\\n;   Minqing Hu and Bing Liu. \"Mining and Summarizing Customer Reviews.\" \\n;       Proceedings of the ACM SIGKDD International Conference on Knowledge \\n;       Discovery and Data Mining (KDD-2004), Aug 22-25, 2004, Seattle, \\n;       Washington, USA, \\n; Notes: \\n;    1. The appearance of an opinion word in a sentence does not necessarily  \\n;       mean that the sentence expresses a positive or negative opinion. \\n;       See the paper below:\\n;\\n;       Bing Liu. \"Sentiment Analysis and Subjectivity.\" An chapter in \\n;          Handbook of Natural Language Processing, Second Edition, \\n;          (editors: N. Indurkhya and F. J. Damerau), 2010.\\n;\\n;    2. You will notice many misspelled words in the list. They are not \\n;       mistakes. They are included as these misspelled words appear \\n;       frequently in social media content. \\n;\\n;;;;;;;;;;;;;;;;;;;;;;;;;;;;;;;;;;;;;;;;;;;;;;;;;;;;;;;;;;;;;;;;;;;;;;;;;;;;\\n\\na+\\nabound\\nabounds\\nabundance\\nabundant\\naccessable\\naccessible\\nacclaim\\nacclaimed\\nacclamation\\naccolade\\naccolades\\naccommodative\\naccomodative\\naccomplish\\naccomplished\\naccomplishment\\naccomplishments\\naccurate\\naccurately\\nachievable\\nachievement\\nachievements\\nachievible\\nacumen\\nadaptable\\nadaptive\\nadequate\\nadjustable\\nadmirable\\nadmirably\\nadmiration\\nadmire\\nadmirer\\nadmiring\\nadmiringly\\nadorable\\nadore\\nadored\\nadorer\\nadoring\\nadoringly\\nadroit\\nadroitly\\nadulate\\nadulation\\nadulatory\\nadvanced\\nadvantage\\nadvantageous\\nadvantageously\\nadvantages\\nadventuresome\\nadventurous\\nadvocate\\nadvocated\\nadvocates\\naffability\\naffable\\naffably\\naffectation\\naffection\\naffectionate\\naffinity\\naffirm\\naffirmation\\naffirmative\\naffluence\\naffluent\\nafford\\naffordable\\naffordably\\nafordable\\nagile\\nagilely\\nagility\\nagreeable\\nagreeableness\\nagreeably\\nall-around\\nalluring\\nalluringly\\naltruistic\\naltruistically\\namaze\\namazed\\namazement\\namazes\\namazing\\namazingly\\nambitious\\nambitiously\\nameliorate\\namenable\\namenity\\namiability\\namiabily\\namiable\\namicability\\namicable\\namicably\\namity\\nample\\namply\\namuse\\namusing\\namusingly\\nangel\\nangelic\\napotheosis\\nappeal\\nappealing\\napplaud\\nappreciable\\nappreciate\\nappreciated\\nappreciates\\nappreciative\\nappreciatively\\nappropriate\\napproval\\napprove\\nardent\\nardently\\nardor\\narticulate\\naspiration\\naspirations\\naspire\\nassurance\\nassurances\\nassure\\nassuredly\\nassuring\\nastonish\\nastonished\\nastonishing\\nastonishingly\\nastonishment\\nastound\\nastounded\\nastounding\\nastoundingly\\nastutely\\nattentive\\nattraction\\nattractive\\nattractively\\nattune\\naudible\\naudibly\\nauspicious\\nauthentic\\nauthoritative\\nautonomous\\navailable\\naver\\navid\\navidly\\naward\\nawarded\\nawards\\nawe\\nawed\\nawesome\\nawesomely\\nawesomeness\\nawestruck\\nawsome\\nbackbone\\nbalanced\\nbargain\\nbeauteous\\nbeautiful\\nbeautifullly\\nbeautifully\\nbeautify\\nbeauty\\nbeckon\\nbeckoned\\nbeckoning\\nbeckons\\nbelievable\\nbelieveable\\nbeloved\\nbenefactor\\nbeneficent\\nbeneficial\\nbeneficially\\nbeneficiary\\nbenefit\\nbenefits\\nbenevolence\\nbenevolent\\nbenifits\\nbest\\nbest-known\\nbest-performing\\nbest-selling\\nbetter\\nbetter-known\\nbetter-than-expected\\nbeutifully\\nblameless\\nbless\\nblessing\\nbliss\\nblissful\\nblissfully\\nblithe\\nblockbuster\\nbloom\\nblossom\\nbolster\\nbonny\\nbonus\\nbonuses\\nboom\\nbooming\\nboost\\nboundless\\nbountiful\\nbrainiest\\nbrainy\\nbrand-new\\nbrave\\nbravery\\nbravo\\nbreakthrough\\nbreakthroughs\\nbreathlessness\\nbreathtaking\\nbreathtakingly\\nbreeze\\nbright\\nbrighten\\nbrighter\\nbrightest\\nbrilliance\\nbrilliances\\nbrilliant\\nbrilliantly\\nbrisk\\nbrotherly\\nbullish\\nbuoyant\\ncajole\\ncalm\\ncalming\\ncalmness\\ncapability\\ncapable\\ncapably\\ncaptivate\\ncaptivating\\ncarefree\\ncashback\\ncashbacks\\ncatchy\\ncelebrate\\ncelebrated\\ncelebration\\ncelebratory\\nchamp\\nchampion\\ncharisma\\ncharismatic\\ncharitable\\ncharm\\ncharming\\ncharmingly\\nchaste\\ncheaper\\ncheapest\\ncheer\\ncheerful\\ncheery\\ncherish\\ncherished\\ncherub\\nchic\\nchivalrous\\nchivalry\\ncivility\\ncivilize\\nclarity\\nclassic\\nclassy\\nclean\\ncleaner\\ncleanest\\ncleanliness\\ncleanly\\nclear\\nclear-cut\\ncleared\\nclearer\\nclearly\\nclears\\nclever\\ncleverly\\ncohere\\ncoherence\\ncoherent\\ncohesive\\ncolorful\\ncomely\\ncomfort\\ncomfortable\\ncomfortably\\ncomforting\\ncomfy\\ncommend\\ncommendable\\ncommendably\\ncommitment\\ncommodious\\ncompact\\ncompactly\\ncompassion\\ncompassionate\\ncompatible\\ncompetitive\\ncomplement\\ncomplementary\\ncomplemented\\ncomplements\\ncompliant\\ncompliment\\ncomplimentary\\ncomprehensive\\nconciliate\\nconciliatory\\nconcise\\nconfidence\\nconfident\\ncongenial\\ncongratulate\\ncongratulation\\ncongratulations\\ncongratulatory\\nconscientious\\nconsiderate\\nconsistent\\nconsistently\\nconstructive\\nconsummate\\ncontentment\\ncontinuity\\ncontrasty\\ncontribution\\nconvenience\\nconvenient\\nconveniently\\nconvience\\nconvienient\\nconvient\\nconvincing\\nconvincingly\\ncool\\ncoolest\\ncooperative\\ncooperatively\\ncornerstone\\ncorrect\\ncorrectly\\ncost-effective\\ncost-saving\\ncounter-attack\\ncounter-attacks\\ncourage\\ncourageous\\ncourageously\\ncourageousness\\ncourteous\\ncourtly\\ncovenant\\ncozy\\ncreative\\ncredence\\ncredible\\ncrisp\\ncrisper\\ncure\\ncure-all\\ncushy\\ncute\\ncuteness\\ndanke\\ndanken\\ndaring\\ndaringly\\ndarling\\ndashing\\ndauntless\\ndawn\\ndazzle\\ndazzled\\ndazzling\\ndead-cheap\\ndead-on\\ndecency\\ndecent\\ndecisive\\ndecisiveness\\ndedicated\\ndefeat\\ndefeated\\ndefeating\\ndefeats\\ndefender\\ndeference\\ndeft\\ndeginified\\ndelectable\\ndelicacy\\ndelicate\\ndelicious\\ndelight\\ndelighted\\ndelightful\\ndelightfully\\ndelightfulness\\ndependable\\ndependably\\ndeservedly\\ndeserving\\ndesirable\\ndesiring\\ndesirous\\ndestiny\\ndetachable\\ndevout\\ndexterous\\ndexterously\\ndextrous\\ndignified\\ndignify\\ndignity\\ndiligence\\ndiligent\\ndiligently\\ndiplomatic\\ndirt-cheap\\ndistinction\\ndistinctive\\ndistinguished\\ndiversified\\ndivine\\ndivinely\\ndominate\\ndominated\\ndominates\\ndote\\ndotingly\\ndoubtless\\ndreamland\\ndumbfounded\\ndumbfounding\\ndummy-proof\\ndurable\\ndynamic\\neager\\neagerly\\neagerness\\nearnest\\nearnestly\\nearnestness\\nease\\neased\\neases\\neasier\\neasiest\\neasiness\\neasing\\neasy\\neasy-to-use\\neasygoing\\nebullience\\nebullient\\nebulliently\\necenomical\\neconomical\\necstasies\\necstasy\\necstatic\\necstatically\\nedify\\neducated\\neffective\\neffectively\\neffectiveness\\neffectual\\nefficacious\\nefficient\\nefficiently\\neffortless\\neffortlessly\\neffusion\\neffusive\\neffusively\\neffusiveness\\nelan\\nelate\\nelated\\nelatedly\\nelation\\nelectrify\\nelegance\\nelegant\\nelegantly\\nelevate\\nelite\\neloquence\\neloquent\\neloquently\\nembolden\\neminence\\neminent\\nempathize\\nempathy\\nempower\\nempowerment\\nenchant\\nenchanted\\nenchanting\\nenchantingly\\nencourage\\nencouragement\\nencouraging\\nencouragingly\\nendear\\nendearing\\nendorse\\nendorsed\\nendorsement\\nendorses\\nendorsing\\nenergetic\\nenergize\\nenergy-efficient\\nenergy-saving\\nengaging\\nengrossing\\nenhance\\nenhanced\\nenhancement\\nenhances\\nenjoy\\nenjoyable\\nenjoyably\\nenjoyed\\nenjoying\\nenjoyment\\nenjoys\\nenlighten\\nenlightenment\\nenliven\\nennoble\\nenough\\nenrapt\\nenrapture\\nenraptured\\nenrich\\nenrichment\\nenterprising\\nentertain\\nentertaining\\nentertains\\nenthral\\nenthrall\\nenthralled\\nenthuse\\nenthusiasm\\nenthusiast\\nenthusiastic\\nenthusiastically\\nentice\\nenticed\\nenticing\\nenticingly\\nentranced\\nentrancing\\nentrust\\nenviable\\nenviably\\nenvious\\nenviously\\nenviousness\\nenvy\\nequitable\\nergonomical\\nerr-free\\nerudite\\nethical\\neulogize\\neuphoria\\neuphoric\\neuphorically\\nevaluative\\nevenly\\neventful\\neverlasting\\nevocative\\nexalt\\nexaltation\\nexalted\\nexaltedly\\nexalting\\nexaltingly\\nexamplar\\nexamplary\\nexcallent\\nexceed\\nexceeded\\nexceeding\\nexceedingly\\nexceeds\\nexcel\\nexceled\\nexcelent\\nexcellant\\nexcelled\\nexcellence\\nexcellency\\nexcellent\\nexcellently\\nexcels\\nexceptional\\nexceptionally\\nexcite\\nexcited\\nexcitedly\\nexcitedness\\nexcitement\\nexcites\\nexciting\\nexcitingly\\nexellent\\nexemplar\\nexemplary\\nexhilarate\\nexhilarating\\nexhilaratingly\\nexhilaration\\nexonerate\\nexpansive\\nexpeditiously\\nexpertly\\nexquisite\\nexquisitely\\nextol\\nextoll\\nextraordinarily\\nextraordinary\\nexuberance\\nexuberant\\nexuberantly\\nexult\\nexultant\\nexultation\\nexultingly\\neye-catch\\neye-catching\\neyecatch\\neyecatching\\nfabulous\\nfabulously\\nfacilitate\\nfair\\nfairly\\nfairness\\nfaith\\nfaithful\\nfaithfully\\nfaithfulness\\nfame\\nfamed\\nfamous\\nfamously\\nfancier\\nfancinating\\nfancy\\nfanfare\\nfans\\nfantastic\\nfantastically\\nfascinate\\nfascinating\\nfascinatingly\\nfascination\\nfashionable\\nfashionably\\nfast\\nfast-growing\\nfast-paced\\nfaster\\nfastest\\nfastest-growing\\nfaultless\\nfav\\nfave\\nfavor\\nfavorable\\nfavored\\nfavorite\\nfavorited\\nfavour\\nfearless\\nfearlessly\\nfeasible\\nfeasibly\\nfeat\\nfeature-rich\\nfecilitous\\nfeisty\\nfelicitate\\nfelicitous\\nfelicity\\nfertile\\nfervent\\nfervently\\nfervid\\nfervidly\\nfervor\\nfestive\\nfidelity\\nfiery\\nfine\\nfine-looking\\nfinely\\nfiner\\nfinest\\nfirmer\\nfirst-class\\nfirst-in-class\\nfirst-rate\\nflashy\\nflatter\\nflattering\\nflatteringly\\nflawless\\nflawlessly\\nflexibility\\nflexible\\nflourish\\nflourishing\\nfluent\\nflutter\\nfond\\nfondly\\nfondness\\nfoolproof\\nforemost\\nforesight\\nformidable\\nfortitude\\nfortuitous\\nfortuitously\\nfortunate\\nfortunately\\nfortune\\nfragrant\\nfree\\nfreed\\nfreedom\\nfreedoms\\nfresh\\nfresher\\nfreshest\\nfriendliness\\nfriendly\\nfrolic\\nfrugal\\nfruitful\\nftw\\nfulfillment\\nfun\\nfuturestic\\nfuturistic\\ngaiety\\ngaily\\ngain\\ngained\\ngainful\\ngainfully\\ngaining\\ngains\\ngallant\\ngallantly\\ngalore\\ngeekier\\ngeeky\\ngem\\ngems\\ngenerosity\\ngenerous\\ngenerously\\ngenial\\ngenius\\ngentle\\ngentlest\\ngenuine\\ngifted\\nglad\\ngladden\\ngladly\\ngladness\\nglamorous\\nglee\\ngleeful\\ngleefully\\nglimmer\\nglimmering\\nglisten\\nglistening\\nglitter\\nglitz\\nglorify\\nglorious\\ngloriously\\nglory\\nglow\\nglowing\\nglowingly\\ngod-given\\ngod-send\\ngodlike\\ngodsend\\ngold\\ngolden\\ngood\\ngoodly\\ngoodness\\ngoodwill\\ngoood\\ngooood\\ngorgeous\\ngorgeously\\ngrace\\ngraceful\\ngracefully\\ngracious\\ngraciously\\ngraciousness\\ngrand\\ngrandeur\\ngrateful\\ngratefully\\ngratification\\ngratified\\ngratifies\\ngratify\\ngratifying\\ngratifyingly\\ngratitude\\ngreat\\ngreatest\\ngreatness\\ngrin\\ngroundbreaking\\nguarantee\\nguidance\\nguiltless\\ngumption\\ngush\\ngusto\\ngutsy\\nhail\\nhalcyon\\nhale\\nhallmark\\nhallmarks\\nhallowed\\nhandier\\nhandily\\nhands-down\\nhandsome\\nhandsomely\\nhandy\\nhappier\\nhappily\\nhappiness\\nhappy\\nhard-working\\nhardier\\nhardy\\nharmless\\nharmonious\\nharmoniously\\nharmonize\\nharmony\\nheadway\\nheal\\nhealthful\\nhealthy\\nhearten\\nheartening\\nheartfelt\\nheartily\\nheartwarming\\nheaven\\nheavenly\\nhelped\\nhelpful\\nhelping\\nhero\\nheroic\\nheroically\\nheroine\\nheroize\\nheros\\nhigh-quality\\nhigh-spirited\\nhilarious\\nholy\\nhomage\\nhonest\\nhonesty\\nhonor\\nhonorable\\nhonored\\nhonoring\\nhooray\\nhopeful\\nhospitable\\nhot\\nhotcake\\nhotcakes\\nhottest\\nhug\\nhumane\\nhumble\\nhumility\\nhumor\\nhumorous\\nhumorously\\nhumour\\nhumourous\\nideal\\nidealize\\nideally\\nidol\\nidolize\\nidolized\\nidyllic\\nilluminate\\nilluminati\\nilluminating\\nillumine\\nillustrious\\nilu\\nimaculate\\nimaginative\\nimmaculate\\nimmaculately\\nimmense\\nimpartial\\nimpartiality\\nimpartially\\nimpassioned\\nimpeccable\\nimpeccably\\nimportant\\nimpress\\nimpressed\\nimpresses\\nimpressive\\nimpressively\\nimpressiveness\\nimprove\\nimproved\\nimprovement\\nimprovements\\nimproves\\nimproving\\nincredible\\nincredibly\\nindebted\\nindividualized\\nindulgence\\nindulgent\\nindustrious\\ninestimable\\ninestimably\\ninexpensive\\ninfallibility\\ninfallible\\ninfallibly\\ninfluential\\ningenious\\ningeniously\\ningenuity\\ningenuous\\ningenuously\\ninnocuous\\ninnovation\\ninnovative\\ninpressed\\ninsightful\\ninsightfully\\ninspiration\\ninspirational\\ninspire\\ninspiring\\ninstantly\\ninstructive\\ninstrumental\\nintegral\\nintegrated\\nintelligence\\nintelligent\\nintelligible\\ninteresting\\ninterests\\nintimacy\\nintimate\\nintricate\\nintrigue\\nintriguing\\nintriguingly\\nintuitive\\ninvaluable\\ninvaluablely\\ninventive\\ninvigorate\\ninvigorating\\ninvincibility\\ninvincible\\ninviolable\\ninviolate\\ninvulnerable\\nirreplaceable\\nirreproachable\\nirresistible\\nirresistibly\\nissue-free\\njaw-droping\\njaw-dropping\\njollify\\njolly\\njovial\\njoy\\njoyful\\njoyfully\\njoyous\\njoyously\\njubilant\\njubilantly\\njubilate\\njubilation\\njubiliant\\njudicious\\njustly\\nkeen\\nkeenly\\nkeenness\\nkid-friendly\\nkindliness\\nkindly\\nkindness\\nknowledgeable\\nkudos\\nlarge-capacity\\nlaud\\nlaudable\\nlaudably\\nlavish\\nlavishly\\nlaw-abiding\\nlawful\\nlawfully\\nlead\\nleading\\nleads\\nlean\\nled\\nlegendary\\nleverage\\nlevity\\nliberate\\nliberation\\nliberty\\nlifesaver\\nlight-hearted\\nlighter\\nlikable\\nlike\\nliked\\nlikes\\nliking\\nlionhearted\\nlively\\nlogical\\nlong-lasting\\nlovable\\nlovably\\nlove\\nloved\\nloveliness\\nlovely\\nlover\\nloves\\nloving\\nlow-cost\\nlow-price\\nlow-priced\\nlow-risk\\nlower-priced\\nloyal\\nloyalty\\nlucid\\nlucidly\\nluck\\nluckier\\nluckiest\\nluckiness\\nlucky\\nlucrative\\nluminous\\nlush\\nluster\\nlustrous\\nluxuriant\\nluxuriate\\nluxurious\\nluxuriously\\nluxury\\nlyrical\\nmagic\\nmagical\\nmagnanimous\\nmagnanimously\\nmagnificence\\nmagnificent\\nmagnificently\\nmajestic\\nmajesty\\nmanageable\\nmaneuverable\\nmarvel\\nmarveled\\nmarvelled\\nmarvellous\\nmarvelous\\nmarvelously\\nmarvelousness\\nmarvels\\nmaster\\nmasterful\\nmasterfully\\nmasterpiece\\nmasterpieces\\nmasters\\nmastery\\nmatchless\\nmature\\nmaturely\\nmaturity\\nmeaningful\\nmemorable\\nmerciful\\nmercifully\\nmercy\\nmerit\\nmeritorious\\nmerrily\\nmerriment\\nmerriness\\nmerry\\nmesmerize\\nmesmerized\\nmesmerizes\\nmesmerizing\\nmesmerizingly\\nmeticulous\\nmeticulously\\nmightily\\nmighty\\nmind-blowing\\nmiracle\\nmiracles\\nmiraculous\\nmiraculously\\nmiraculousness\\nmodern\\nmodest\\nmodesty\\nmomentous\\nmonumental\\nmonumentally\\nmorality\\nmotivated\\nmulti-purpose\\nnavigable\\nneat\\nneatest\\nneatly\\nnice\\nnicely\\nnicer\\nnicest\\nnifty\\nnimble\\nnoble\\nnobly\\nnoiseless\\nnon-violence\\nnon-violent\\nnotably\\nnoteworthy\\nnourish\\nnourishing\\nnourishment\\nnovelty\\nnurturing\\noasis\\nobsession\\nobsessions\\nobtainable\\nopenly\\nopenness\\noptimal\\noptimism\\noptimistic\\nopulent\\norderly\\noriginality\\noutdo\\noutdone\\noutperform\\noutperformed\\noutperforming\\noutperforms\\noutshine\\noutshone\\noutsmart\\noutstanding\\noutstandingly\\noutstrip\\noutwit\\novation\\noverjoyed\\novertake\\novertaken\\novertakes\\novertaking\\novertook\\noverture\\npain-free\\npainless\\npainlessly\\npalatial\\npamper\\npampered\\npamperedly\\npamperedness\\npampers\\npanoramic\\nparadise\\nparamount\\npardon\\npassion\\npassionate\\npassionately\\npatience\\npatient\\npatiently\\npatriot\\npatriotic\\npeace\\npeaceable\\npeaceful\\npeacefully\\npeacekeepers\\npeach\\npeerless\\npep\\npepped\\npepping\\npeppy\\npeps\\nperfect\\nperfection\\nperfectly\\npermissible\\nperseverance\\npersevere\\npersonages\\npersonalized\\nphenomenal\\nphenomenally\\npicturesque\\npiety\\npinnacle\\nplayful\\nplayfully\\npleasant\\npleasantly\\npleased\\npleases\\npleasing\\npleasingly\\npleasurable\\npleasurably\\npleasure\\nplentiful\\npluses\\nplush\\nplusses\\npoetic\\npoeticize\\npoignant\\npoise\\npoised\\npolished\\npolite\\npoliteness\\npopular\\nportable\\nposh\\npositive\\npositively\\npositives\\npowerful\\npowerfully\\npraise\\npraiseworthy\\npraising\\npre-eminent\\nprecious\\nprecise\\nprecisely\\npreeminent\\nprefer\\npreferable\\npreferably\\nprefered\\npreferes\\npreferring\\nprefers\\npremier\\nprestige\\nprestigious\\nprettily\\npretty\\npriceless\\npride\\nprincipled\\nprivilege\\nprivileged\\nprize\\nproactive\\nproblem-free\\nproblem-solver\\nprodigious\\nprodigiously\\nprodigy\\nproductive\\nproductively\\nproficient\\nproficiently\\nprofound\\nprofoundly\\nprofuse\\nprofusion\\nprogress\\nprogressive\\nprolific\\nprominence\\nprominent\\npromise\\npromised\\npromises\\npromising\\npromoter\\nprompt\\npromptly\\nproper\\nproperly\\npropitious\\npropitiously\\npros\\nprosper\\nprosperity\\nprosperous\\nprospros\\nprotect\\nprotection\\nprotective\\nproud\\nproven\\nproves\\nprovidence\\nproving\\nprowess\\nprudence\\nprudent\\nprudently\\npunctual\\npure\\npurify\\npurposeful\\nquaint\\nqualified\\nqualify\\nquicker\\nquiet\\nquieter\\nradiance\\nradiant\\nrapid\\nrapport\\nrapt\\nrapture\\nraptureous\\nraptureously\\nrapturous\\nrapturously\\nrational\\nrazor-sharp\\nreachable\\nreadable\\nreadily\\nready\\nreaffirm\\nreaffirmation\\nrealistic\\nrealizable\\nreasonable\\nreasonably\\nreasoned\\nreassurance\\nreassure\\nreceptive\\nreclaim\\nrecomend\\nrecommend\\nrecommendation\\nrecommendations\\nrecommended\\nreconcile\\nreconciliation\\nrecord-setting\\nrecover\\nrecovery\\nrectification\\nrectify\\nrectifying\\nredeem\\nredeeming\\nredemption\\nrefine\\nrefined\\nrefinement\\nreform\\nreformed\\nreforming\\nreforms\\nrefresh\\nrefreshed\\nrefreshing\\nrefund\\nrefunded\\nregal\\nregally\\nregard\\nrejoice\\nrejoicing\\nrejoicingly\\nrejuvenate\\nrejuvenated\\nrejuvenating\\nrelaxed\\nrelent\\nreliable\\nreliably\\nrelief\\nrelish\\nremarkable\\nremarkably\\nremedy\\nremission\\nremunerate\\nrenaissance\\nrenewed\\nrenown\\nrenowned\\nreplaceable\\nreputable\\nreputation\\nresilient\\nresolute\\nresound\\nresounding\\nresourceful\\nresourcefulness\\nrespect\\nrespectable\\nrespectful\\nrespectfully\\nrespite\\nresplendent\\nresponsibly\\nresponsive\\nrestful\\nrestored\\nrestructure\\nrestructured\\nrestructuring\\nretractable\\nrevel\\nrevelation\\nrevere\\nreverence\\nreverent\\nreverently\\nrevitalize\\nrevival\\nrevive\\nrevives\\nrevolutionary\\nrevolutionize\\nrevolutionized\\nrevolutionizes\\nreward\\nrewarding\\nrewardingly\\nrich\\nricher\\nrichly\\nrichness\\nright\\nrighten\\nrighteous\\nrighteously\\nrighteousness\\nrightful\\nrightfully\\nrightly\\nrightness\\nrisk-free\\nrobust\\nrock-star\\nrock-stars\\nrockstar\\nrockstars\\nromantic\\nromantically\\nromanticize\\nroomier\\nroomy\\nrosy\\nsafe\\nsafely\\nsagacity\\nsagely\\nsaint\\nsaintliness\\nsaintly\\nsalutary\\nsalute\\nsane\\nsatisfactorily\\nsatisfactory\\nsatisfied\\nsatisfies\\nsatisfy\\nsatisfying\\nsatisified\\nsaver\\nsavings\\nsavior\\nsavvy\\nscenic\\nseamless\\nseasoned\\nsecure\\nsecurely\\nselective\\nself-determination\\nself-respect\\nself-satisfaction\\nself-sufficiency\\nself-sufficient\\nsensation\\nsensational\\nsensationally\\nsensations\\nsensible\\nsensibly\\nsensitive\\nserene\\nserenity\\nsexy\\nsharp\\nsharper\\nsharpest\\nshimmering\\nshimmeringly\\nshine\\nshiny\\nsignificant\\nsilent\\nsimpler\\nsimplest\\nsimplified\\nsimplifies\\nsimplify\\nsimplifying\\nsincere\\nsincerely\\nsincerity\\nskill\\nskilled\\nskillful\\nskillfully\\nslammin\\nsleek\\nslick\\nsmart\\nsmarter\\nsmartest\\nsmartly\\nsmile\\nsmiles\\nsmiling\\nsmilingly\\nsmitten\\nsmooth\\nsmoother\\nsmoothes\\nsmoothest\\nsmoothly\\nsnappy\\nsnazzy\\nsociable\\nsoft\\nsofter\\nsolace\\nsolicitous\\nsolicitously\\nsolid\\nsolidarity\\nsoothe\\nsoothingly\\nsophisticated\\nsoulful\\nsoundly\\nsoundness\\nspacious\\nsparkle\\nsparkling\\nspectacular\\nspectacularly\\nspeedily\\nspeedy\\nspellbind\\nspellbinding\\nspellbindingly\\nspellbound\\nspirited\\nspiritual\\nsplendid\\nsplendidly\\nsplendor\\nspontaneous\\nsporty\\nspotless\\nsprightly\\nstability\\nstabilize\\nstable\\nstainless\\nstandout\\nstate-of-the-art\\nstately\\nstatuesque\\nstaunch\\nstaunchly\\nstaunchness\\nsteadfast\\nsteadfastly\\nsteadfastness\\nsteadiest\\nsteadiness\\nsteady\\nstellar\\nstellarly\\nstimulate\\nstimulates\\nstimulating\\nstimulative\\nstirringly\\nstraighten\\nstraightforward\\nstreamlined\\nstriking\\nstrikingly\\nstriving\\nstrong\\nstronger\\nstrongest\\nstunned\\nstunning\\nstunningly\\nstupendous\\nstupendously\\nsturdier\\nsturdy\\nstylish\\nstylishly\\nstylized\\nsuave\\nsuavely\\nsublime\\nsubsidize\\nsubsidized\\nsubsidizes\\nsubsidizing\\nsubstantive\\nsucceed\\nsucceeded\\nsucceeding\\nsucceeds\\nsucces\\nsuccess\\nsuccesses\\nsuccessful\\nsuccessfully\\nsuffice\\nsufficed\\nsuffices\\nsufficient\\nsufficiently\\nsuitable\\nsumptuous\\nsumptuously\\nsumptuousness\\nsuper\\nsuperb\\nsuperbly\\nsuperior\\nsuperiority\\nsupple\\nsupport\\nsupported\\nsupporter\\nsupporting\\nsupportive\\nsupports\\nsupremacy\\nsupreme\\nsupremely\\nsupurb\\nsupurbly\\nsurmount\\nsurpass\\nsurreal\\nsurvival\\nsurvivor\\nsustainability\\nsustainable\\nswank\\nswankier\\nswankiest\\nswanky\\nsweeping\\nsweet\\nsweeten\\nsweetheart\\nsweetly\\nsweetness\\nswift\\nswiftness\\ntalent\\ntalented\\ntalents\\ntantalize\\ntantalizing\\ntantalizingly\\ntempt\\ntempting\\ntemptingly\\ntenacious\\ntenaciously\\ntenacity\\ntender\\ntenderly\\nterrific\\nterrifically\\nthank\\nthankful\\nthinner\\nthoughtful\\nthoughtfully\\nthoughtfulness\\nthrift\\nthrifty\\nthrill\\nthrilled\\nthrilling\\nthrillingly\\nthrills\\nthrive\\nthriving\\nthumb-up\\nthumbs-up\\ntickle\\ntidy\\ntime-honored\\ntimely\\ntingle\\ntitillate\\ntitillating\\ntitillatingly\\ntogetherness\\ntolerable\\ntoll-free\\ntop\\ntop-notch\\ntop-quality\\ntopnotch\\ntops\\ntough\\ntougher\\ntoughest\\ntraction\\ntranquil\\ntranquility\\ntransparent\\ntreasure\\ntremendously\\ntrendy\\ntriumph\\ntriumphal\\ntriumphant\\ntriumphantly\\ntrivially\\ntrophy\\ntrouble-free\\ntrump\\ntrumpet\\ntrust\\ntrusted\\ntrusting\\ntrustingly\\ntrustworthiness\\ntrustworthy\\ntrusty\\ntruthful\\ntruthfully\\ntruthfulness\\ntwinkly\\nultra-crisp\\nunabashed\\nunabashedly\\nunaffected\\nunassailable\\nunbeatable\\nunbiased\\nunbound\\nuncomplicated\\nunconditional\\nundamaged\\nundaunted\\nunderstandable\\nundisputable\\nundisputably\\nundisputed\\nunencumbered\\nunequivocal\\nunequivocally\\nunfazed\\nunfettered\\nunforgettable\\nunity\\nunlimited\\nunmatched\\nunparalleled\\nunquestionable\\nunquestionably\\nunreal\\nunrestricted\\nunrivaled\\nunselfish\\nunwavering\\nupbeat\\nupgradable\\nupgradeable\\nupgraded\\nupheld\\nuphold\\nuplift\\nuplifting\\nupliftingly\\nupliftment\\nupscale\\nusable\\nuseable\\nuseful\\nuser-friendly\\nuser-replaceable\\nvaliant\\nvaliantly\\nvalor\\nvaluable\\nvariety\\nvenerate\\nverifiable\\nveritable\\nversatile\\nversatility\\nvibrant\\nvibrantly\\nvictorious\\nvictory\\nviewable\\nvigilance\\nvigilant\\nvirtue\\nvirtuous\\nvirtuously\\nvisionary\\nvivacious\\nvivid\\nvouch\\nvouchsafe\\nwarm\\nwarmer\\nwarmhearted\\nwarmly\\nwarmth\\nwealthy\\nwelcome\\nwell\\nwell-backlit\\nwell-balanced\\nwell-behaved\\nwell-being\\nwell-bred\\nwell-connected\\nwell-educated\\nwell-established\\nwell-informed\\nwell-intentioned\\nwell-known\\nwell-made\\nwell-managed\\nwell-mannered\\nwell-positioned\\nwell-received\\nwell-regarded\\nwell-rounded\\nwell-run\\nwell-wishers\\nwellbeing\\nwhoa\\nwholeheartedly\\nwholesome\\nwhooa\\nwhoooa\\nwieldy\\nwilling\\nwillingly\\nwillingness\\nwin\\nwindfall\\nwinnable\\nwinner\\nwinners\\nwinning\\nwins\\nwisdom\\nwise\\nwisely\\nwitty\\nwon\\nwonder\\nwonderful\\nwonderfully\\nwonderous\\nwonderously\\nwonders\\nwondrous\\nwoo\\nwork\\nworkable\\nworked\\nworks\\nworld-famous\\nworth\\nworth-while\\nworthiness\\nworthwhile\\nworthy\\nwow\\nwowed\\nwowing\\nwows\\nyay\\nyouthful\\nzeal\\nzenith\\nzest\\nzippy\\n'"
      ]
     },
     "execution_count": 16,
     "metadata": {},
     "output_type": "execute_result"
    }
   ],
   "source": [
    "files_pos.read()"
   ]
  },
  {
   "cell_type": "code",
   "execution_count": 5,
   "metadata": {},
   "outputs": [
    {
     "ename": "FileNotFoundError",
     "evalue": "[WinError 3] The system cannot find the path specified: 'train/pos'",
     "output_type": "error",
     "traceback": [
      "\u001b[1;31m---------------------------------------------------------------------------\u001b[0m",
      "\u001b[1;31mFileNotFoundError\u001b[0m                         Traceback (most recent call last)",
      "\u001b[1;32m<ipython-input-5-502fd822f7d6>\u001b[0m in \u001b[0;36m<module>\u001b[1;34m\u001b[0m\n\u001b[1;32m----> 1\u001b[1;33m \u001b[0mfiles_pos\u001b[0m \u001b[1;33m=\u001b[0m \u001b[0mos\u001b[0m\u001b[1;33m.\u001b[0m\u001b[0mlistdir\u001b[0m\u001b[1;33m(\u001b[0m\u001b[1;34m'train/pos'\u001b[0m\u001b[1;33m)\u001b[0m\u001b[1;33m\u001b[0m\u001b[1;33m\u001b[0m\u001b[0m\n\u001b[0m\u001b[0;32m      2\u001b[0m \u001b[0mfiles_pos\u001b[0m \u001b[1;33m=\u001b[0m \u001b[1;33m[\u001b[0m\u001b[0mopen\u001b[0m\u001b[1;33m(\u001b[0m\u001b[1;34m'train/pos/'\u001b[0m\u001b[1;33m+\u001b[0m\u001b[0mf\u001b[0m\u001b[1;33m,\u001b[0m \u001b[1;34m'r'\u001b[0m\u001b[1;33m)\u001b[0m\u001b[1;33m.\u001b[0m\u001b[0mread\u001b[0m\u001b[1;33m(\u001b[0m\u001b[1;33m)\u001b[0m \u001b[1;32mfor\u001b[0m \u001b[0mf\u001b[0m \u001b[1;32min\u001b[0m \u001b[0mfiles_pos\u001b[0m\u001b[1;33m]\u001b[0m\u001b[1;33m\u001b[0m\u001b[1;33m\u001b[0m\u001b[0m\n\u001b[0;32m      3\u001b[0m \u001b[0mfiles_neg\u001b[0m \u001b[1;33m=\u001b[0m \u001b[0mos\u001b[0m\u001b[1;33m.\u001b[0m\u001b[0mlistdir\u001b[0m\u001b[1;33m(\u001b[0m\u001b[1;34m'train/neg'\u001b[0m\u001b[1;33m)\u001b[0m\u001b[1;33m\u001b[0m\u001b[1;33m\u001b[0m\u001b[0m\n\u001b[0;32m      4\u001b[0m \u001b[0mfiles_neg\u001b[0m \u001b[1;33m=\u001b[0m \u001b[1;33m[\u001b[0m\u001b[0mopen\u001b[0m\u001b[1;33m(\u001b[0m\u001b[1;34m'train/neg/'\u001b[0m\u001b[1;33m+\u001b[0m\u001b[0mf\u001b[0m\u001b[1;33m,\u001b[0m \u001b[1;34m'r'\u001b[0m\u001b[1;33m)\u001b[0m\u001b[1;33m.\u001b[0m\u001b[0mread\u001b[0m\u001b[1;33m(\u001b[0m\u001b[1;33m)\u001b[0m \u001b[1;32mfor\u001b[0m \u001b[0mf\u001b[0m \u001b[1;32min\u001b[0m \u001b[0mfiles_neg\u001b[0m\u001b[1;33m]\u001b[0m\u001b[1;33m\u001b[0m\u001b[1;33m\u001b[0m\u001b[0m\n\u001b[0;32m      5\u001b[0m \u001b[1;33m\u001b[0m\u001b[0m\n",
      "\u001b[1;31mFileNotFoundError\u001b[0m: [WinError 3] The system cannot find the path specified: 'train/pos'"
     ]
    }
   ],
   "source": [
    "\n",
    "\n",
    "all_words = []\n",
    "documents = []\n",
    "\n",
    "from nltk.corpus import stopwords\n",
    "import re\n",
    "\n",
    "stop_words = list(set(stopwords.words('english')))\n",
    "\n",
    "#  j is adject, r is adverb, and v is verb\n",
    "#allowed_word_types = [\"J\",\"R\",\"V\"]\n",
    "allowed_word_types = [\"J\"]\n",
    "\n",
    "for p in  files_pos:\n",
    "    \n",
    "    # create a list of tuples where the first element of each tuple is a review\n",
    "    # the second element is the label\n",
    "    documents.append( (p, \"pos\") )\n",
    "    \n",
    "    # remove punctuations\n",
    "    cleaned = re.sub(r'[^(a-zA-Z)\\s]','', p)\n",
    "    \n",
    "    # tokenize \n",
    "    tokenized = word_tokenize(cleaned)\n",
    "    \n",
    "    # remove stopwords \n",
    "    stopped = [w for w in tokenized if not w in stop_words]\n",
    "    \n",
    "    # parts of speech tagging for each word \n",
    "    pos = nltk.pos_tag(stopped)\n",
    "    \n",
    "    # make a list of  all adjectives identified by the allowed word types list above\n",
    "    for w in pos:\n",
    "        if w[1][0] in allowed_word_types:\n",
    "            all_words.append(w[0].lower())\n",
    "   "
   ]
  },
  {
   "cell_type": "code",
   "execution_count": null,
   "metadata": {},
   "outputs": [],
   "source": [
    "for p in files_neg:\n",
    "    # create a list of tuples where the first element of each tuple is a review\n",
    "    # the second element is the label\n",
    "    documents.append( (p, \"neg\") )\n",
    "\n",
    "    # remove punctuations\n",
    "    cleaned = re.sub(r'[^(a-zA-Z)\\s]','', p)\n",
    "\n",
    "    # tokenize \n",
    "    tokenized = word_tokenize(cleaned)\n",
    "\n",
    "    # remove stopwords \n",
    "    stopped = [w for w in tokenized if not w in stop_words]\n",
    "\n",
    "    # parts of speech tagging for each word \n",
    "    neg = nltk.pos_tag(stopped)\n",
    "\n",
    "    # make a list of  all adjectives identified by the allowed word types list above\n",
    "    for w in neg:\n",
    "        if w[1][0] in allowed_word_types:\n",
    "            all_words.append(w[0].lower())"
   ]
  }
 ],
 "metadata": {
  "kernelspec": {
   "display_name": "Python 3",
   "language": "python",
   "name": "python3"
  },
  "language_info": {
   "codemirror_mode": {
    "name": "ipython",
    "version": 3
   },
   "file_extension": ".py",
   "mimetype": "text/x-python",
   "name": "python",
   "nbconvert_exporter": "python",
   "pygments_lexer": "ipython3",
   "version": "3.7.4"
  }
 },
 "nbformat": 4,
 "nbformat_minor": 2
}
