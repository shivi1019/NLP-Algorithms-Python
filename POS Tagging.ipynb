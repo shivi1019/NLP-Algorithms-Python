{
 "cells": [
  {
   "cell_type": "markdown",
   "metadata": {},
   "source": [
    "#### =================================================================================\n",
    "\n",
    "### Problem statement : Removing nouns and verbs from the text data provided  \n",
    "\n",
    "#### Author : Shivani \n",
    "#### Last updated : 17-08-2020\n",
    "\n",
    "#### ================================================================================="
   ]
  },
  {
   "cell_type": "markdown",
   "metadata": {},
   "source": [
    "#### Importing required libraries and reading data "
   ]
  },
  {
   "cell_type": "code",
   "execution_count": null,
   "metadata": {},
   "outputs": [],
   "source": [
    "#loading libraries\n",
    "import numpy as np\n",
    "import pandas as pd"
   ]
  },
  {
   "cell_type": "code",
   "execution_count": null,
   "metadata": {},
   "outputs": [],
   "source": [
    "# to remove warning signs in the cell output \n",
    "import warnings \n",
    "warnings.filterwarnings(\"ignore\")"
   ]
  },
  {
   "cell_type": "code",
   "execution_count": null,
   "metadata": {
    "scrolled": true
   },
   "outputs": [],
   "source": [
    "#reading data\n",
    "data = pd.read_csv(\"your_data.csv\")\n",
    "display(data.head())"
   ]
  },
  {
   "cell_type": "markdown",
   "metadata": {},
   "source": [
    "#### Data pre processing"
   ]
  },
  {
   "cell_type": "code",
   "execution_count": null,
   "metadata": {},
   "outputs": [],
   "source": [
    "df = data.copy() #creating a copy of loaded data to avoid reading file again"
   ]
  },
  {
   "cell_type": "code",
   "execution_count": null,
   "metadata": {},
   "outputs": [],
   "source": [
    "# Manipulating data \n",
    "\n",
    "k = 1 #initializing a counter for creating dynamic column names \n",
    "\n",
    "\n",
    "#storing the list of columns on which the manipulation needs to be performed \n",
    "col_list = ['email_1',\n",
    " 'email_2',\n",
    " 'email_3',\n",
    " 'email_4',\n",
    " 'email_5']\n",
    "\n",
    "\"\"\"\n",
    "Removing special characters from the text data for appropriate output.\n",
    "Not removing the space as it is required between 2 words \n",
    "\n",
    "\"\"\"\n",
    "\n",
    "for name in col_list:    \n",
    "        df[\"email_new_\" + str(k)] = df[str(name)].str.replace('[^a-zA-Z0-9\" \"]+', '').str.lower().fillna('0')\n",
    "        print(name)\n",
    "        k = k + 1 "
   ]
  },
  {
   "cell_type": "code",
   "execution_count": null,
   "metadata": {},
   "outputs": [],
   "source": [
    "display(df.head(3)) #displaying the top 3 rows to check if the function performed was successful  "
   ]
  },
  {
   "cell_type": "markdown",
   "metadata": {},
   "source": [
    "#### PartOfSpeech Tagging Algorithm"
   ]
  },
  {
   "cell_type": "code",
   "execution_count": null,
   "metadata": {},
   "outputs": [],
   "source": [
    "#importing libraries to enable POS tagging \n",
    "import nltk\n",
    "from nltk import word_tokenize,pos_tag, pos_tag_sents"
   ]
  },
  {
   "cell_type": "code",
   "execution_count": null,
   "metadata": {},
   "outputs": [],
   "source": [
    "nltk.download('averaged_perceptron_tagger') #if the library is not already loaded "
   ]
  },
  {
   "cell_type": "code",
   "execution_count": null,
   "metadata": {},
   "outputs": [],
   "source": [
    "#storing the list of columns on which the manipulation needs to be performed \n",
    "col_list = ['email_1',\n",
    " 'email_2',\n",
    " 'email_3',\n",
    " 'email_4',\n",
    " 'email_5']\n",
    "\n",
    "\n",
    "#Tagging words with their corresponding verb,adj,noun etc.\n",
    "for name in col_list:\n",
    "    \n",
    "    #storing the emails in a list \n",
    "    texts = df[str(name)].tolist() #creating a list from pandas column \n",
    "    \n",
    "    #converting each word into tokens, necessary to perform any NLP algorithm \n",
    "    tagged_texts = pos_tag_sents(map(word_tokenize, texts)) \n",
    "    \n",
    "    #saving the column in the dataframe \n",
    "    df[str(name) + \"_POS\"] = tagged_texts\n",
    "    \n",
    "    print(name)"
   ]
  },
  {
   "cell_type": "code",
   "execution_count": null,
   "metadata": {},
   "outputs": [],
   "source": [
    "temp = df.copy() #creating a copy as the above function requires a lot of time to run "
   ]
  },
  {
   "cell_type": "code",
   "execution_count": null,
   "metadata": {},
   "outputs": [],
   "source": [
    "#Removing words which are nouns, determinents etc. from the emails, as per my analysis\n",
    "\n",
    "#storing the list of columns on which the filter needs to be applied  \n",
    "col_list = ['email_new_1_POS', 'email_new_2_POS', 'email_new_3_POS', 'email_new_4_POS', 'email_new_5_POS']\n",
    "\n",
    "\n",
    "\"\"\"\n",
    "A nested for loop is used as the function can be performed for one row value at a time.\n",
    "\n",
    "Using a try catch to avoid the breaking of loop due to blank rows \n",
    "\n",
    "\"\"\"\n",
    "for name in col_list:\n",
    "    \n",
    "    for row in range(len(temp)):\n",
    "        try:\n",
    "            sent = temp.loc[row , str(name)] #storing a row value in the \"sent\" variable \n",
    "            \n",
    "            #creating an empty column post filtering for words not required \n",
    "            temp.loc[row,str(name)+\"_filt\"] = [[s for s in x if s[1] not in \n",
    "                                                ['NN','CC','CD','FW','IN','NNS','NNP','NNPS','PRP','PDT','PRP$']]]\n",
    "        except:\n",
    "            pass\n",
    "    print(name)\n",
    "    "
   ]
  },
  {
   "cell_type": "code",
   "execution_count": null,
   "metadata": {},
   "outputs": [],
   "source": [
    "display()"
   ]
  },
  {
   "cell_type": "code",
   "execution_count": null,
   "metadata": {},
   "outputs": [],
   "source": []
  }
 ],
 "metadata": {
  "kernelspec": {
   "display_name": "Python 3",
   "language": "python",
   "name": "python3"
  },
  "language_info": {
   "codemirror_mode": {
    "name": "ipython",
    "version": 3
   },
   "file_extension": ".py",
   "mimetype": "text/x-python",
   "name": "python",
   "nbconvert_exporter": "python",
   "pygments_lexer": "ipython3",
   "version": "3.7.4"
  }
 },
 "nbformat": 4,
 "nbformat_minor": 2
}
