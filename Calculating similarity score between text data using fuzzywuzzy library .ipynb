{
 "cells": [
  {
   "cell_type": "markdown",
   "metadata": {},
   "source": [
    "#### =================================================================================\n",
    "\n",
    "### Problem statement : Intensity of Repeatition in consecutive emails (or any text data)\n",
    "\n",
    "#### Author : Shivani \n",
    "#### Last updated : 17-08-2020\n",
    "\n",
    "#### ================================================================================="
   ]
  },
  {
   "cell_type": "markdown",
   "metadata": {},
   "source": [
    "### Loading libraries and defining UDFs"
   ]
  },
  {
   "cell_type": "code",
   "execution_count": null,
   "metadata": {},
   "outputs": [],
   "source": [
    "#loading libraries \n",
    "import numpy as np\n",
    "import pandas as pd\n",
    "\n",
    "#data manipulation \n",
    "import re\n",
    "\n",
    "#importing libraries to map strings \n",
    "from fuzzywuzzy import fuzz\n",
    "from fuzzywuzzy import process"
   ]
  },
  {
   "cell_type": "code",
   "execution_count": null,
   "metadata": {},
   "outputs": [],
   "source": [
    "# function for calculating similarity index between two columns of pandas dataframe \n",
    "\n",
    "\n",
    "\"\"\"\n",
    "\n",
    "Using token_sort_ratio function as the order is not required for my analysis.\n",
    "\n",
    "According to different analysis we can use different functions such as:\n",
    "\n",
    "ratio\n",
    "partial_ratio\n",
    "token_set_ratio etc.\n",
    "\n",
    "\"\"\"\n",
    "\n",
    "\n",
    "def get_ratio(col1 , col2 ):\n",
    "\n",
    "    if col2 != 'nan':\n",
    "        score_1_2 = fuzz.token_sort_ratio(col1,col2)\n",
    "        return score_1_2\n",
    "    else:\n",
    "        return 'no value'"
   ]
  },
  {
   "cell_type": "markdown",
   "metadata": {},
   "source": [
    "#### Reading Data & Summary"
   ]
  },
  {
   "cell_type": "code",
   "execution_count": null,
   "metadata": {},
   "outputs": [],
   "source": [
    "#reading dataset \n",
    "thread_data = pd.read_csv(\"All_emails_data.csv\")\n",
    "display(thread_data.head())"
   ]
  },
  {
   "cell_type": "code",
   "execution_count": null,
   "metadata": {},
   "outputs": [],
   "source": [
    "#Checking the summary of the data \n",
    "thread_data.info()"
   ]
  },
  {
   "cell_type": "markdown",
   "metadata": {},
   "source": [
    "#### Manipulating data "
   ]
  },
  {
   "cell_type": "code",
   "execution_count": null,
   "metadata": {},
   "outputs": [],
   "source": [
    "df = thread_data.copy() #creating a copy of the main data so we don't have to load it again "
   ]
  },
  {
   "cell_type": "code",
   "execution_count": null,
   "metadata": {},
   "outputs": [],
   "source": [
    "\"\"\"\n",
    "Converting all the columns in the data into lower case and \n",
    "Removing every special character from the text data except for numbers and letters \n",
    "\n",
    "\"\"\"\n",
    "\n",
    "k = 1  #Counter : change everytime with the new column \n",
    "\n",
    "#storing the list of columns with text data\n",
    "col_list = ['email_1',\n",
    " 'email_2',\n",
    " 'email_3',\n",
    " 'email_4',\n",
    " 'email_5']\n",
    "\n",
    "\n",
    "for name in col_list:    \n",
    "        df[\"email_new_\" + str(k)] = df[str(name)].str.replace('[^a-zA-Z0-9]+', '').str.lower()\n",
    "        print(name)\n",
    "        k = k + 1 "
   ]
  },
  {
   "cell_type": "code",
   "execution_count": null,
   "metadata": {},
   "outputs": [],
   "source": [
    "display(df.head())"
   ]
  },
  {
   "cell_type": "markdown",
   "metadata": {},
   "source": [
    "#### Calculating Levenshtein ratio for email threads"
   ]
  },
  {
   "cell_type": "code",
   "execution_count": null,
   "metadata": {},
   "outputs": [],
   "source": [
    "\n",
    "#setting counters to get dynamic column names \n",
    "i = 1\n",
    "j = 1\n",
    "\n",
    "#storing the list of columns with text data\n",
    "col_list = ['email_1',\n",
    " 'email_2',\n",
    " 'email_3',\n",
    " 'email_4',\n",
    " 'email_5']\n",
    "\n",
    "\n",
    "\"\"\"\n",
    "for each column with text data we are calling the UDF using an apply lambda function\n",
    "as operation needs to be done for each row  \n",
    "\n",
    "Using a try catch to skip the empty row values \n",
    "\n",
    "\"\"\"\n",
    "\n",
    "# Applying the fuzzy logic on thread data \n",
    "for name in col_list: \n",
    "    try:\n",
    "        df[\"new_score_\" + str(j)] = df.apply(lambda x: get_ratio(x[str(name)], x[str(col_list[i])]), axis=1)        \n",
    "        print(name, col_list[i])\n",
    "        i = i + 1\n",
    "        j = j + 1\n",
    "        \n",
    "    except:\n",
    "        print(\"error\")\n",
    " "
   ]
  },
  {
   "cell_type": "code",
   "execution_count": null,
   "metadata": {},
   "outputs": [],
   "source": [
    "# you can write the new data with calculated fuzz score\n",
    "\n",
    "df.to_csv(\"file_name.csv\", index = False) "
   ]
  }
 ],
 "metadata": {
  "kernelspec": {
   "display_name": "Python 3",
   "language": "python",
   "name": "python3"
  },
  "language_info": {
   "codemirror_mode": {
    "name": "ipython",
    "version": 3
   },
   "file_extension": ".py",
   "mimetype": "text/x-python",
   "name": "python",
   "nbconvert_exporter": "python",
   "pygments_lexer": "ipython3",
   "version": "3.7.4"
  }
 },
 "nbformat": 4,
 "nbformat_minor": 2
}
